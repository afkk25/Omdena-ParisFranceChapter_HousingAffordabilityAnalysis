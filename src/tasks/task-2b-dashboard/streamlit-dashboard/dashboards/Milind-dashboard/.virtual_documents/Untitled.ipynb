import pandas as pd
import gzip

# Specify the path to your CSV file
file_path = 'data/paris_data_all.csv'

# Function to read the CSV file and show its columns
def show_columns_for_file(file_path):
    try:
        if file_path.endswith('.gz'):
            with gzip.open(file_path, 'rt', encoding='utf-8') as f:
                df = pd.read_csv(f)
        else:
            df = pd.read_csv(file_path)
        
        print(f"Columns in {file_path}:")
        print(df.columns.tolist())
        print()
    except Exception as e:
        print(f"Error loading file {file_path}: {e}")

# Call the function
show_columns_for_file(file_path)



import os
import nbformat

def read_notebooks_from_directory(directory_path):
    """Read all Jupyter notebooks from a specified directory."""
    notebooks = [f for f in os.listdir(directory_path) if f.endswith('.ipynb')]
    notebook_data = {}
    
    for notebook in notebooks:
        notebook_path = os.path.join(directory_path, notebook)
        with open(notebook_path, 'r', encoding='utf-8') as file:
            nb_contents = nbformat.read(file, as_version=4)
            notebook_data[notebook] = nb_contents

    return notebook_data

# Specify the path to your EDA folder
eda_folder_path = 'EDA'

# Read all Jupyter notebooks from the EDA folder
notebooks = read_notebooks_from_directory(eda_folder_path)

# Example of accessing the content of a specific notebook
for notebook_name, notebook_content in notebooks.items():
    print(f"Notebook: {notebook_name}")
    print(f"Cells: {len(notebook_content['cells'])}")



import os
import nbformat

def extract_code_cells(directory_path):
    """Extract code cells from all Jupyter notebooks in the directory."""
    notebooks = [f for f in os.listdir(directory_path) if f.endswith('.ipynb')]
    all_code_cells = []

    for notebook in notebooks:
        notebook_path = os.path.join(directory_path, notebook)
        with open(notebook_path, 'r', encoding='utf-8') as file:
            nb_contents = nbformat.read(file, as_version=4)
            for cell in nb_contents['cells']:
                if cell['cell_type'] == 'code':
                    all_code_cells.append(cell)

    return all_code_cells

def create_combined_notebook(code_cells, output_file):
    """Create a new Jupyter notebook with the given code cells."""
    nb = nbformat.v4.new_notebook()
    nb.cells = code_cells
    with open(output_file, 'w', encoding='utf-8') as file:
        nbformat.write(nb, file)

# Specify the path to your EDA folder and output notebook
eda_folder_path = 'EDA'
output_notebook_path = 'merged_code_notebook.ipynb'

# Extract code cells and create the new notebook
code_cells = extract_code_cells(eda_folder_path)
create_combined_notebook(code_cells, output_notebook_path)

print(f"Code cells from all notebooks have been merged into {output_notebook_path}")



import pandas as pd
import gzip

# List of file paths
file_paths = [
    'data/listings.csv',
    'data/reviews.csv',
    'data/neighbourhoods.csv'
]

# Function to read the CSV file and show its columns
def show_columns_for_file(file_path):
    try:
        if file_path.endswith('.gz'):
            with gzip.open(file_path, 'rt', encoding='utf-8') as f:
                df = pd.read_csv(f)
        else:
            df = pd.read_csv(file_path)
        
        print(f"Columns in {file_path}:")
        print(df.columns.tolist())
        print()
    except Exception as e:
        print(f"Error loading file {file_path}: {e}")

# Call the function for each file
for file_path in file_paths:
    show_columns_for_file(file_path)



import pandas as pd
import matplotlib.pyplot as plt
import seaborn as sns

# Load data
listings = pd.read_csv("data/listings.csv")

# Data overview
print("Data Overview:")
print(listings.info())
print(listings.describe(include='all'))

# Check for missing values
missing_values = listings.isnull().sum()
print("Missing Values:")
print(missing_values[missing_values > 0])

# Drop rows with critical missing values (e.g., latitude and longitude)
listings_cleaned = listings.dropna(subset=['latitude', 'longitude'])

# Data Distribution
def plot_histogram(data, column, title, xlabel, ylabel):
    plt.figure(figsize=(10, 6))
    plt.hist(data[column], bins=50, color='skyblue', edgecolor='black')
    plt.title(title)
    plt.xlabel(xlabel)
    plt.ylabel(ylabel)
    plt.show()

# Plot Price Distribution
plot_histogram(listings_cleaned, 'price', 'Price Distribution', 'Price (€)', 'Frequency')

# Plot Availability Distribution
plot_histogram(listings_cleaned, 'availability_365', 'Availability Distribution', 'Availability (days)', 'Frequency')

# Plot Number of Reviews Distribution
plot_histogram(listings_cleaned, 'number_of_reviews', 'Number of Reviews Distribution', 'Number of Reviews', 'Frequency')

# Room Type Distribution
plt.figure(figsize=(10, 6))
sns.countplot(data=listings_cleaned, x='room_type', palette='viridis')
plt.title('Room Type Distribution')
plt.xlabel('Room Type')
plt.ylabel('Count')
plt.show()

# Price vs. Number of Reviews
plt.figure(figsize=(10, 6))
sns.scatterplot(data=listings_cleaned, x='price', y='number_of_reviews', hue='room_type', palette='viridis', alpha=0.6)
plt.title('Price vs. Number of Reviews')
plt.xlabel('Price (€)')
plt.ylabel('Number of Reviews')
plt.legend(title='Room Type')
plt.show()

# Correlation Heatmap
plt.figure(figsize=(12, 8))
correlation_matrix = listings_cleaned[['price', 'availability_365', 'number_of_reviews', 'reviews_per_month']].corr()
sns.heatmap(correlation_matrix, annot=True, cmap='coolwarm', vmin=-1, vmax=1)
plt.title('Correlation Heatmap')
plt.show()

# Summary Statistics
summary_stats = {
    'Total Listings': listings_cleaned.shape[0],
    'Average Price': listings_cleaned['price'].mean(),
    'Median Price': listings_cleaned['price'].median(),
    'Average Availability': listings_cleaned['availability_365'].mean(),
    'Average Number of Reviews': listings_cleaned['number_of_reviews'].mean(),
    'Most Common Room Type': listings_cleaned['room_type'].mode()[0]
}
print("Summary Statistics:")
for key, value in summary_stats.items():
    print(f"{key}: {value}")

# Top Hosts by Number of Listings
top_hosts = listings_cleaned.groupby('host_name')['id'].count().sort_values(ascending=False).head(10)
print("Top Hosts by Number of Listings:")
print(top_hosts)

# Room Type Distribution by Neighbourhood Group
plt.figure(figsize=(12, 8))
sns.countplot(data=listings_cleaned, x='neighbourhood_group', hue='room_type', palette='viridis')
plt.title('Room Type Distribution by Neighbourhood Group')
plt.xlabel('Neighbourhood Group')
plt.ylabel('Count')
plt.show()




pip install pandas plotly ipywidgets




