{
    "cells": [
        {
            "cell_type": "code",
            "execution_count": null,
            "id": "f0d62923",
            "metadata": {
                "id": "f0d62923"
            },
            "outputs": [],
            "source": []
        },
        {
            "cell_type": "markdown",
            "id": "fd2e0fe4",
            "metadata": {
                "id": "fd2e0fe4"
            },
            "source": [
                "## Run this to save the notebook to DagsHub \ud83d\udc47"
            ]
        },
        {
            "cell_type": "code",
            "execution_count": 1,
            "metadata": {
                "id": "2JvR9_vR4VyK",
                "executionInfo": {
                    "status": "ok",
                    "timestamp": 1722072759700,
                    "user_tz": -330,
                    "elapsed": 35318,
                    "user": {
                        "displayName": "",
                        "userId": ""
                    }
                },
                "outputId": "214503d2-e7f4-424a-d7d5-595b275c4398",
                "colab": {
                    "base_uri": "https://localhost:8080/"
                }
            },
            "outputs": [
                {
                    "output_type": "stream",
                    "name": "stdout",
                    "text": [
                        "  Preparing metadata (setup.py) ... \u001b[?25l\u001b[?25hdone\n",
                        "\u001b[2K   \u001b[90m\u2501\u2501\u2501\u2501\u2501\u2501\u2501\u2501\u2501\u2501\u2501\u2501\u2501\u2501\u2501\u2501\u2501\u2501\u2501\u2501\u2501\u2501\u2501\u2501\u2501\u2501\u2501\u2501\u2501\u2501\u2501\u2501\u2501\u2501\u2501\u2501\u2501\u2501\u2501\u2501\u001b[0m \u001b[32m236.3/236.3 kB\u001b[0m \u001b[31m7.8 MB/s\u001b[0m eta \u001b[36m0:00:00\u001b[0m\n",
                        "\u001b[2K   \u001b[90m\u2501\u2501\u2501\u2501\u2501\u2501\u2501\u2501\u2501\u2501\u2501\u2501\u2501\u2501\u2501\u2501\u2501\u2501\u2501\u2501\u2501\u2501\u2501\u2501\u2501\u2501\u2501\u2501\u2501\u2501\u2501\u2501\u2501\u2501\u2501\u2501\u2501\u2501\u2501\u2501\u001b[0m \u001b[32m207.3/207.3 kB\u001b[0m \u001b[31m5.5 MB/s\u001b[0m eta \u001b[36m0:00:00\u001b[0m\n",
                        "\u001b[2K   \u001b[90m\u2501\u2501\u2501\u2501\u2501\u2501\u2501\u2501\u2501\u2501\u2501\u2501\u2501\u2501\u2501\u2501\u2501\u2501\u2501\u2501\u2501\u2501\u2501\u2501\u2501\u2501\u2501\u2501\u2501\u2501\u2501\u2501\u2501\u2501\u2501\u2501\u2501\u2501\u2501\u2501\u001b[0m \u001b[32m71.5/71.5 kB\u001b[0m \u001b[31m1.4 MB/s\u001b[0m eta \u001b[36m0:00:00\u001b[0m\n",
                        "\u001b[2K   \u001b[90m\u2501\u2501\u2501\u2501\u2501\u2501\u2501\u2501\u2501\u2501\u2501\u2501\u2501\u2501\u2501\u2501\u2501\u2501\u2501\u2501\u2501\u2501\u2501\u2501\u2501\u2501\u2501\u2501\u2501\u2501\u2501\u2501\u2501\u2501\u2501\u2501\u2501\u2501\u2501\u2501\u001b[0m \u001b[32m238.4/238.4 kB\u001b[0m \u001b[31m5.9 MB/s\u001b[0m eta \u001b[36m0:00:00\u001b[0m\n",
                        "\u001b[2K   \u001b[90m\u2501\u2501\u2501\u2501\u2501\u2501\u2501\u2501\u2501\u2501\u2501\u2501\u2501\u2501\u2501\u2501\u2501\u2501\u2501\u2501\u2501\u2501\u2501\u2501\u2501\u2501\u2501\u2501\u2501\u2501\u2501\u2501\u2501\u2501\u2501\u2501\u2501\u2501\u2501\u2501\u001b[0m \u001b[32m139.2/139.2 kB\u001b[0m \u001b[31m3.9 MB/s\u001b[0m eta \u001b[36m0:00:00\u001b[0m\n",
                        "\u001b[2K   \u001b[90m\u2501\u2501\u2501\u2501\u2501\u2501\u2501\u2501\u2501\u2501\u2501\u2501\u2501\u2501\u2501\u2501\u2501\u2501\u2501\u2501\u2501\u2501\u2501\u2501\u2501\u2501\u2501\u2501\u2501\u2501\u2501\u2501\u2501\u2501\u2501\u2501\u2501\u2501\u2501\u2501\u001b[0m \u001b[32m12.4/12.4 MB\u001b[0m \u001b[31m17.6 MB/s\u001b[0m eta \u001b[36m0:00:00\u001b[0m\n",
                        "\u001b[2K   \u001b[90m\u2501\u2501\u2501\u2501\u2501\u2501\u2501\u2501\u2501\u2501\u2501\u2501\u2501\u2501\u2501\u2501\u2501\u2501\u2501\u2501\u2501\u2501\u2501\u2501\u2501\u2501\u2501\u2501\u2501\u2501\u2501\u2501\u2501\u2501\u2501\u2501\u2501\u2501\u2501\u2501\u001b[0m \u001b[32m51.1/51.1 kB\u001b[0m \u001b[31m1.6 MB/s\u001b[0m eta \u001b[36m0:00:00\u001b[0m\n",
                        "\u001b[2K   \u001b[90m\u2501\u2501\u2501\u2501\u2501\u2501\u2501\u2501\u2501\u2501\u2501\u2501\u2501\u2501\u2501\u2501\u2501\u2501\u2501\u2501\u2501\u2501\u2501\u2501\u2501\u2501\u2501\u2501\u2501\u2501\u2501\u2501\u2501\u2501\u2501\u2501\u2501\u2501\u2501\u2501\u001b[0m \u001b[32m62.7/62.7 kB\u001b[0m \u001b[31m2.2 MB/s\u001b[0m eta \u001b[36m0:00:00\u001b[0m\n",
                        "\u001b[2K   \u001b[90m\u2501\u2501\u2501\u2501\u2501\u2501\u2501\u2501\u2501\u2501\u2501\u2501\u2501\u2501\u2501\u2501\u2501\u2501\u2501\u2501\u2501\u2501\u2501\u2501\u2501\u2501\u2501\u2501\u2501\u2501\u2501\u2501\u2501\u2501\u2501\u2501\u2501\u2501\u2501\u2501\u001b[0m \u001b[32m202.9/202.9 kB\u001b[0m \u001b[31m6.4 MB/s\u001b[0m eta \u001b[36m0:00:00\u001b[0m\n",
                        "\u001b[2K   \u001b[90m\u2501\u2501\u2501\u2501\u2501\u2501\u2501\u2501\u2501\u2501\u2501\u2501\u2501\u2501\u2501\u2501\u2501\u2501\u2501\u2501\u2501\u2501\u2501\u2501\u2501\u2501\u2501\u2501\u2501\u2501\u2501\u2501\u2501\u2501\u2501\u2501\u2501\u2501\u2501\u2501\u001b[0m \u001b[32m69.6/69.6 kB\u001b[0m \u001b[31m3.0 MB/s\u001b[0m eta \u001b[36m0:00:00\u001b[0m\n",
                        "\u001b[2K   \u001b[90m\u2501\u2501\u2501\u2501\u2501\u2501\u2501\u2501\u2501\u2501\u2501\u2501\u2501\u2501\u2501\u2501\u2501\u2501\u2501\u2501\u2501\u2501\u2501\u2501\u2501\u2501\u2501\u2501\u2501\u2501\u2501\u2501\u2501\u2501\u2501\u2501\u2501\u2501\u2501\u2501\u001b[0m \u001b[32m49.2/49.2 kB\u001b[0m \u001b[31m2.2 MB/s\u001b[0m eta \u001b[36m0:00:00\u001b[0m\n",
                        "\u001b[2K   \u001b[90m\u2501\u2501\u2501\u2501\u2501\u2501\u2501\u2501\u2501\u2501\u2501\u2501\u2501\u2501\u2501\u2501\u2501\u2501\u2501\u2501\u2501\u2501\u2501\u2501\u2501\u2501\u2501\u2501\u2501\u2501\u2501\u2501\u2501\u2501\u2501\u2501\u2501\u2501\u2501\u2501\u001b[0m \u001b[32m54.5/54.5 kB\u001b[0m \u001b[31m2.5 MB/s\u001b[0m eta \u001b[36m0:00:00\u001b[0m\n",
                        "\u001b[2K   \u001b[90m\u2501\u2501\u2501\u2501\u2501\u2501\u2501\u2501\u2501\u2501\u2501\u2501\u2501\u2501\u2501\u2501\u2501\u2501\u2501\u2501\u2501\u2501\u2501\u2501\u2501\u2501\u2501\u2501\u2501\u2501\u2501\u2501\u2501\u2501\u2501\u2501\u2501\u2501\u2501\u2501\u001b[0m \u001b[32m82.7/82.7 kB\u001b[0m \u001b[31m3.8 MB/s\u001b[0m eta \u001b[36m0:00:00\u001b[0m\n",
                        "\u001b[2K   \u001b[90m\u2501\u2501\u2501\u2501\u2501\u2501\u2501\u2501\u2501\u2501\u2501\u2501\u2501\u2501\u2501\u2501\u2501\u2501\u2501\u2501\u2501\u2501\u2501\u2501\u2501\u2501\u2501\u2501\u2501\u2501\u2501\u2501\u2501\u2501\u2501\u2501\u2501\u2501\u2501\u2501\u001b[0m \u001b[32m74.0/74.0 kB\u001b[0m \u001b[31m4.0 MB/s\u001b[0m eta \u001b[36m0:00:00\u001b[0m\n",
                        "\u001b[2K   \u001b[90m\u2501\u2501\u2501\u2501\u2501\u2501\u2501\u2501\u2501\u2501\u2501\u2501\u2501\u2501\u2501\u2501\u2501\u2501\u2501\u2501\u2501\u2501\u2501\u2501\u2501\u2501\u2501\u2501\u2501\u2501\u2501\u2501\u2501\u2501\u2501\u2501\u2501\u2501\u2501\u2501\u001b[0m \u001b[32m58.3/58.3 kB\u001b[0m \u001b[31m2.6 MB/s\u001b[0m eta \u001b[36m0:00:00\u001b[0m\n",
                        "\u001b[?25h  Building wheel for fusepy (setup.py) ... \u001b[?25l\u001b[?25hdone\n"
                    ]
                }
            ],
            "source": [
                "# Install the DagsHub python client\n",
                "!pip install -q dagshub\n"
            ],
            "id": "2JvR9_vR4VyK"
        },
        {
            "cell_type": "code",
            "execution_count": null,
            "id": "f7fd65e3",
            "metadata": {
                "id": "f7fd65e3"
            },
            "outputs": [],
            "source": [
                "from dagshub.notebook import save_notebook\n",
                "\n",
                "save_notebook(repo=\"Omdena/ParisFranceChapter_HousingAffordabilityAnalysis\", path=\"src/tasks/task-2a-data-analysis\")"
            ]
        },
        {
            "cell_type": "code",
            "source": [
                "import pandas as pd\n",
                "import numpy as np\n",
                "import matplotlib.pyplot as plt\n",
                "import seaborn as sns\n",
                "from scipy import stats\n",
                "\n",
                "# Load the dataset\n",
                "file_path = '/Population in Municipal Arrondissements.xlsx'\n",
                "data = pd.read_excel(file_path)\n",
                "\n",
                "# Display the first few rows of the dataset\n",
                "print(\"First few rows of the dataset:\")\n",
                "print(data.head())\n",
                "\n",
                "# Check the shape of the dataset\n",
                "print(f\"\\nDataset contains {data.shape[0]} rows and {data.shape[1]} columns.\")\n",
                "\n",
                "# Display basic information about the dataset\n",
                "print(\"\\nBasic information about the dataset:\")\n",
                "print(data.info())\n",
                "\n",
                "# Check for missing values\n",
                "missing_values = data.isnull().sum()\n",
                "print(f\"\\nMissing values in each column:\\n{missing_values}\")\n",
                "\n",
                "# Summary statistics\n",
                "print(\"\\nSummary statistics:\")\n",
                "print(data.describe())\n",
                "\n",
                "# Handle missing values (if any) for numerical columns only\n",
                "data_numeric = data.select_dtypes(include=[np.number])\n",
                "data_numeric.fillna(data_numeric.mean(), inplace=True)\n",
                "\n",
                "# Replace the original numerical columns with the filled ones\n",
                "for column in data_numeric.columns:\n",
                "    data[column] = data_numeric[column]\n",
                "\n",
                "print(f\"\\nMissing values after handling:\\n{data.isnull().sum()}\")\n",
                "\n",
                "# Identify and handle outliers using Z-score for numerical columns\n",
                "z_scores = np.abs(stats.zscore(data_numeric))\n",
                "outliers = (z_scores > 3).any(axis=1)\n",
                "data_cleaned = data[~outliers]\n",
                "print(f\"\\nNumber of rows removed due to outliers: {outliers.sum()}\")\n",
                "\n",
                "# Updated summary statistics after handling missing values and outliers\n",
                "print(\"\\nUpdated summary statistics after handling outliers:\")\n",
                "print(data_cleaned.describe())\n",
                "\n",
                "# Histograms for numerical features\n",
                "print(\"\\nHistograms for numerical features:\")\n",
                "data_cleaned.select_dtypes(include=[np.number]).hist(bins=30, figsize=(15, 10))\n",
                "plt.show()\n",
                "\n",
                "# Box plots to visualize outliers\n",
                "for column in data_cleaned.select_dtypes(include=[np.number]).columns:\n",
                "    plt.figure(figsize=(10, 5))\n",
                "    sns.boxplot(x=data_cleaned[column])\n",
                "    plt.title(f'Box plot of {column}')\n",
                "    plt.show()\n",
                "\n",
                "# Correlation heatmap\n",
                "plt.figure(figsize=(12, 8))\n",
                "correlation_matrix = data_cleaned.select_dtypes(include=[np.number]).corr()\n",
                "sns.heatmap(correlation_matrix, annot=True, cmap='coolwarm')\n",
                "plt.title('Correlation Matrix')\n",
                "plt.show()\n",
                "\n",
                "# Save the cleaned dataset to a new CSV file\n",
                "cleaned_file_path = '/cleaned_population_data.csv'\n",
                "data_cleaned.to_csv(cleaned_file_path, index=False)\n",
                "\n",
                "print(f\"\\nCleaned data saved to {cleaned_file_path}\")\n"
            ],
            "metadata": {
                "id": "nAHX0L5Xh33s"
            },
            "id": "nAHX0L5Xh33s",
            "execution_count": null,
            "outputs": []
        }
    ],
    "metadata": {
        "kernelspec": {
            "display_name": "Python 3 (ipykernel)",
            "language": "python",
            "name": "python3"
        },
        "language_info": {
            "codemirror_mode": {
                "name": "ipython",
                "version": 3
            },
            "file_extension": ".py",
            "mimetype": "text/x-python",
            "name": "python",
            "nbconvert_exporter": "python",
            "pygments_lexer": "ipython3",
            "version": "3.9.5"
        },
        "colab": {
            "provenance": []
        }
    },
    "nbformat": 4,
    "nbformat_minor": 5
}